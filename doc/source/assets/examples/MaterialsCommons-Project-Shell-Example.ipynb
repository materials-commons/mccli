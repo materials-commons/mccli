{
 "cells": [
  {
   "cell_type": "markdown",
   "id": "4355e762",
   "metadata": {},
   "source": [
    "### Create a new Materials Commons project\n",
    "\n",
    "This example demonstrates creating a new Materials Commons project from a Jupyter notebook. To try running it locally, download the notebook from [here](https://materials-commons.github.io/materials-commons-cli/html/examples/MaterialsCommons-Project-Shell-Example.ipynb).\n",
    "\n",
    "To install the necessary dependencies (requires Python 3):\n",
    "\n",
    "    pip install materials-commons-cli\n",
    "\n",
    "For this notebook, you must configure `mc` beforehand:\n",
    "\n",
    "     mc remote --add user@domain.edu \n",
    "\n",
    "Notes:\n",
    "- If you do not yet have a Materials Commons account, it can be created [here](https://materialscommons.org/register).\n",
    "- Only one project per owner may have the same name. If the same name as an existing project is given, then the existing project is returned instead of creating a new project.\n",
    "\n"
   ]
  },
  {
   "cell_type": "code",
   "execution_count": null,
   "id": "65c48327",
   "metadata": {},
   "outputs": [],
   "source": [
    "import os\n",
    "import pathlib\n",
    "import shutil\n",
    "\n",
    "parent_path = pathlib.Path.home() / \"mc_projects\"\n",
    "os.makedirs(parent_path, exist_ok=True)\n",
    "\n",
    "# Project name\n",
    "name = \"ExampleProjectFromJupyter\"\n",
    "project_path = parent_path / name\n",
    "\n",
    "# Projct summary - short description to show in tables\n",
    "summary = \"Example project created via Jupyter notebook\"\n",
    "\n",
    "# Project description - describes the project, may be more detailed\n",
    "description = \"This project was created as an example of how to create \"\\\n",
    "\"and use Materials Commons projects from within a Jupyter notebook\"\n",
    "\n",
    "! cd {parent_path} && mkdir {name}\n",
    "! cd {project_path} && mc init --desc \"{description}\""
   ]
  },
  {
   "cell_type": "markdown",
   "id": "12c5a891",
   "metadata": {},
   "source": [
    "### File Transfer\n",
    "\n",
    "These examples demonstrate the mixed use of Python with shell commands (`! ...`) to make use of the Materials Commons CLI in a Jupyter notebook.\n"
   ]
  },
  {
   "cell_type": "markdown",
   "id": "aa05b079",
   "metadata": {},
   "source": [
    "### Setup for upload examples:\n",
    "\n",
    "This creates a directory and writes some files used in the upload examples."
   ]
  },
  {
   "cell_type": "code",
   "execution_count": null,
   "id": "45589dcc",
   "metadata": {},
   "outputs": [],
   "source": [
    "example_file1 = project_path / \"example_file1.txt\"\n",
    "with open(example_file1, 'w') as f:\n",
    "    f.write(\"Hello World!\\n\")\n",
    "\n",
    "example_file2 = project_path / \"example_file2.txt\"\n",
    "with open(example_file2, 'w') as f:\n",
    "    f.write(\"Hello World, again!\\n\")\n",
    "\n",
    "example_dir = project_path / \"dir\"\n",
    "os.makedirs(example_dir, exist_ok=True)\n",
    "\n",
    "example_file3 = example_dir / \"example_file3.txt\"\n",
    "with open(example_file3, 'w') as f:\n",
    "    f.write(\"Got some data here!\\n\")\n",
    "\n",
    "example_file4 = example_dir / \"example_file4.txt\"\n",
    "with open(example_file4, 'w') as f:\n",
    "    f.write(\"So much data!\\n\")"
   ]
  },
  {
   "cell_type": "markdown",
   "id": "2adf011b",
   "metadata": {},
   "source": [
    "### Upload one file"
   ]
  },
  {
   "cell_type": "code",
   "execution_count": null,
   "id": "144207d5",
   "metadata": {},
   "outputs": [],
   "source": [
    "! cd {project_path} && mc up example_file1.txt"
   ]
  },
  {
   "cell_type": "markdown",
   "id": "e00e4d02",
   "metadata": {},
   "source": [
    "### By default, files that already exist will be skipped\n",
    "\n",
    "- Use `--no-compare` to transfer without checking. Materials Commons will still check for file equivalence and only create a new file version if the file is different. "
   ]
  },
  {
   "cell_type": "code",
   "execution_count": null,
   "id": "42c10f63",
   "metadata": {},
   "outputs": [],
   "source": [
    "! cd {project_path} && mc up example_file1.txt\n",
    "! cd {project_path} && mc up --no-compare example_file1.txt"
   ]
  },
  {
   "cell_type": "markdown",
   "id": "3a02a8ec",
   "metadata": {},
   "source": [
    "### Upload multiple files"
   ]
  },
  {
   "cell_type": "code",
   "execution_count": null,
   "id": "594fc690",
   "metadata": {},
   "outputs": [],
   "source": [
    "! cd {project_path} && mc up example_file1.txt example_file2.txt"
   ]
  },
  {
   "cell_type": "markdown",
   "id": "44ebf47c",
   "metadata": {},
   "source": [
    "### Upload files and directories, recursively\n",
    "\n",
    "- Use the `-r,--recursive` argument to transfer files and directories recursively"
   ]
  },
  {
   "cell_type": "code",
   "execution_count": null,
   "id": "a8df5d87",
   "metadata": {},
   "outputs": [],
   "source": [
    "! cd {project_path} && mc up -r dir"
   ]
  },
  {
   "cell_type": "markdown",
   "id": "85a3b15b",
   "metadata": {},
   "source": [
    "### Uploading the notebook itself / use of \"upload_as\"\n",
    "\n",
    "It is possible to upload a notebook, from within the notebook itself. To do so, we can use the `--upload-as` option which allows uploading files that do not exist in the local cloned project directory. The following cells demonstrate getting the notebook's name, `nb_name`, and then uploading the notebook itself to the Materials Commons project. It is placed in a \"notebooks\" directory. Note that it uploads the last saved version of the notebook, not the current state.\n",
    "\n",
    "_Note: Getting the notebook file path from `os.path.join(os.getcwd(), nb_name)` may not work in all cases_"
   ]
  },
  {
   "cell_type": "code",
   "execution_count": null,
   "id": "24732cbe",
   "metadata": {},
   "outputs": [],
   "source": [
    "nb_name = \"MaterialsCommons-Project-Shell-Example.ipynb\"\n",
    "notebook_local_abspath = os.path.join(os.getcwd(), nb_name)\n",
    "notebook_upload_as = project_path / \"notebooks\" / nb_name\n",
    "\n",
    "! cd {project_path} && mc up {notebook_local_abspath} --upload-as {notebook_upload_as}"
   ]
  },
  {
   "cell_type": "markdown",
   "id": "5f125feb",
   "metadata": {},
   "source": [
    "### Setup for download examples\n",
    "\n",
    "This removes the existing local files and directories to demonstrate downloading from Materials Commons."
   ]
  },
  {
   "cell_type": "code",
   "execution_count": null,
   "id": "5b5d8d11",
   "metadata": {},
   "outputs": [],
   "source": [
    "for file in [example_file1, example_file2]:\n",
    "    if os.path.exists(file):\n",
    "        os.remove(file)\n",
    "\n",
    "if os.path.exists(example_dir):\n",
    "    shutil.rmtree(example_dir)\n",
    "    \n",
    "print(\"Local project directory contents:\", os.listdir(project_path))"
   ]
  },
  {
   "cell_type": "markdown",
   "id": "06e64a8a",
   "metadata": {},
   "source": [
    "### Download one file"
   ]
  },
  {
   "cell_type": "code",
   "execution_count": null,
   "id": "a886cdf7",
   "metadata": {},
   "outputs": [],
   "source": [
    "! cd {project_path} && mc down example_file1.txt"
   ]
  },
  {
   "cell_type": "markdown",
   "id": "d9bc05f9",
   "metadata": {},
   "source": [
    "### By default, files that already exist will be skipped\n",
    "\n",
    "- Use `--no-compare` to transfer without comparing checksums.\n",
    "- Use `-f,--force` to force overwriting existing files without prompting."
   ]
  },
  {
   "cell_type": "code",
   "execution_count": null,
   "id": "a0196526",
   "metadata": {},
   "outputs": [],
   "source": [
    "! cd {project_path} && mc down --no-compare --force example_file1.txt\n",
    "! cd {project_path} && mc down --no-compare --force example_file2.txt\n",
    "\n",
    "! cd {project_path} && cp example_file2.txt example_file1.txt\n",
    "! cd {project_path} && mc down --force example_file1.txt"
   ]
  },
  {
   "cell_type": "markdown",
   "id": "287cea58",
   "metadata": {},
   "source": [
    "### Download multiple files"
   ]
  },
  {
   "cell_type": "code",
   "execution_count": null,
   "id": "69282d60",
   "metadata": {},
   "outputs": [],
   "source": [
    "! cd {project_path} && mc down example_file1.txt example_file2.txt"
   ]
  },
  {
   "cell_type": "markdown",
   "id": "ab411970",
   "metadata": {},
   "source": [
    "### Download files and directories, recursively\n",
    "\n",
    "- Use the `-r,--recursive` argument to transfer files and directories recursively"
   ]
  },
  {
   "cell_type": "code",
   "execution_count": null,
   "id": "6c87fed9",
   "metadata": {},
   "outputs": [],
   "source": [
    "! cd {project_path} && mc down -r dir"
   ]
  },
  {
   "cell_type": "markdown",
   "id": "d49cef4f",
   "metadata": {},
   "source": [
    "### Download with different name\n",
    "\n",
    "- Use `-o,--output` to output one file or directory to a different location"
   ]
  },
  {
   "cell_type": "code",
   "execution_count": null,
   "id": "be8894dd",
   "metadata": {},
   "outputs": [],
   "source": [
    "! cd {project_path} && mc down example_file1.txt -o example_file3.txt"
   ]
  },
  {
   "cell_type": "markdown",
   "id": "a8b1ee80",
   "metadata": {},
   "source": [
    "### Using Globus file transfer\n",
    "\n",
    "- Use the `--globus` argument to peform the file transfer using the current globus upload or download directory\n",
    "- Use the `--label` argument to give the transfer a label for easier tracking\n",
    "- Globus configuration and transfer management can be done using shell commands or the Materials Commons website\n",
    "- See the online [documentation](https://materials-commons.github.io/materials-commons-cli/html/manual/up_down_globus.html#globus-installation-and-configuration) for more information on Globus file transfers."
   ]
  },
  {
   "cell_type": "code",
   "execution_count": null,
   "id": "cf2d965d",
   "metadata": {},
   "outputs": [],
   "source": [
    "! cd {project_path} && mc up --globus example_file1.txt"
   ]
  },
  {
   "cell_type": "code",
   "execution_count": null,
   "id": "d3dd705a",
   "metadata": {},
   "outputs": [],
   "source": [
    "! cd {project_path} && mc down --globus --force example_file2.txt"
   ]
  },
  {
   "cell_type": "markdown",
   "id": "a582b56d",
   "metadata": {},
   "source": [
    "### Monitor transfer status"
   ]
  },
  {
   "cell_type": "code",
   "execution_count": null,
   "id": "52e54f35",
   "metadata": {},
   "outputs": [],
   "source": [
    "! cd {project_path} && mc globus upload && mc globus download\n",
    "! globus task list"
   ]
  },
  {
   "cell_type": "markdown",
   "id": "4a2318c8",
   "metadata": {},
   "source": [
    "### Finish the transfer\n",
    "\n",
    "- Uploads must be \"finished\" to transfer files into the project. Once processing is finished, the upload directory will no longer appear in `mc globus upload` results, and all files should appear in the project directory. The processing time required before files appear in your project will depend on the size of the transfer. \n",
    "- Globus download directories should be \"deleted\" when download tasks are finished. The download directory may be left as long as desired, but it will not reflect any file or directory changes to the project since the time the download directory was created."
   ]
  },
  {
   "cell_type": "code",
   "execution_count": null,
   "id": "ca630bf7",
   "metadata": {},
   "outputs": [],
   "source": [
    "from materials_commons.cli.functions import read_project_config\n",
    "\n",
    "project_config = read_project_config(project_path)"
   ]
  },
  {
   "cell_type": "code",
   "execution_count": null,
   "id": "995d7098",
   "metadata": {},
   "outputs": [],
   "source": [
    "! cd {project_path} && mc globus upload --id {project_config.globus_upload_id} --finish --force"
   ]
  },
  {
   "cell_type": "code",
   "execution_count": null,
   "id": "6a22209f",
   "metadata": {},
   "outputs": [],
   "source": [
    "! cd {project_path} && mc globus download --id {project_config.globus_download_id} --delete --force"
   ]
  },
  {
   "cell_type": "markdown",
   "id": "0f3a8ca9",
   "metadata": {},
   "source": [
    "### Example cleanup\n",
    "\n",
    "The `delete_project` call will delete a project on Materials Commons.   \n",
    "\n",
    "Notes:\n",
    "- Only the project owner can delete a project\n",
    "- A project that has published datasets may not be deleted\n",
    "- Be careful, there is no undo! Deleting a project deletes all project files and data.\n",
    "- Deleting the remote project does not delete the local project files.\n",
    "- Deleting the local project files does not delete the remote project"
   ]
  },
  {
   "cell_type": "code",
   "execution_count": null,
   "id": "002339f4",
   "metadata": {},
   "outputs": [],
   "source": [
    "# Delete the remote project (-f, force delete is required to avoid prompt)\n",
    "print(\"Deleting remote project...\")\n",
    "! mc proj --delete -f --id {project_config.project_id}\n",
    "\n",
    "# Delete the local project\n",
    "print(\"Deleting local project...\")\n",
    "if os.path.exists(project_path):\n",
    "    shutil.rmtree(project_path)"
   ]
  },
  {
   "cell_type": "code",
   "execution_count": null,
   "id": "42f99c42",
   "metadata": {},
   "outputs": [],
   "source": []
  }
 ],
 "metadata": {
  "kernelspec": {
   "display_name": "Python 3",
   "language": "python",
   "name": "python3"
  },
  "language_info": {
   "codemirror_mode": {
    "name": "ipython",
    "version": 3
   },
   "file_extension": ".py",
   "mimetype": "text/x-python",
   "name": "python",
   "nbconvert_exporter": "python",
   "pygments_lexer": "ipython3",
   "version": "3.9.4"
  }
 },
 "nbformat": 4,
 "nbformat_minor": 5
}
